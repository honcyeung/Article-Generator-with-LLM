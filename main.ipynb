{
 "cells": [
  {
   "cell_type": "code",
   "execution_count": 1,
   "id": "a3388474",
   "metadata": {},
   "outputs": [],
   "source": [
    "import requests\n",
    "import os\n",
    "from dotenv import load_dotenv\n",
    "from datetime import datetime\n",
    "import json\n",
    "import yaml\n",
    "import shutil\n",
    "import subprocess"
   ]
  },
  {
   "cell_type": "code",
   "execution_count": 2,
   "id": "ab1dd26c",
   "metadata": {},
   "outputs": [],
   "source": [
    "load_dotenv()\n",
    "\n",
    "PROMPTLAYER_API_KEY = os.environ[\"PROMPTLAYER_API_KEY\"]\n",
    "GEMINI_API_KEY = os.environ[\"GEMINI_API_KEY\"]\n",
    "HUGO_REPO_URL = os.environ[\"HUGO_REPO_URL\"]\n",
    "CLONE_PATH = os.environ[\"CLONE_PATH\"]\n",
    "PROMPT_TEMPLATE_IDENTIFIER = os.environ[\"PROMPT_TEMPLATE_IDENTIFIER\"]"
   ]
  },
  {
   "cell_type": "markdown",
   "id": "d50b9517",
   "metadata": {},
   "source": [
    "# Generate articles and SEO metadata"
   ]
  },
  {
   "cell_type": "code",
   "execution_count": null,
   "id": "e5121958",
   "metadata": {},
   "outputs": [],
   "source": [
    "def get_prompt(prompt_template_identifier):\n",
    "  \n",
    "    url = f\"https://api.promptlayer.com/prompt-templates/{prompt_template_identifier}\"\n",
    "    headers = {\n",
    "        \"X-API-KEY\": PROMPTLAYER_API_KEY,\n",
    "        \"Content-Type\": \"application/json\"\n",
    "    }\n",
    "\n",
    "    response = requests.post(url, headers = headers)\n",
    "    response.raise_for_status()\n",
    "    data = response.json()\n",
    "\n",
    "    messages = data.get(\"prompt_template\", {}).get(\"messages\", {})\n",
    "    user_prompt = \"\"\n",
    "    system_prompt = \"\"\n",
    "    for m in messages:\n",
    "        if m.get(\"role\", {}) == \"system\":\n",
    "            system_prompt = m.get(\"content\", [])[0].get(\"text\", \"\")\n",
    "        if m.get(\"role\", {}) == \"user\":\n",
    "            user_prompt = m.get(\"content\", [])[0].get(\"text\", \"\")\n",
    "\n",
    "    if not system_prompt :\n",
    "            raise ValueError(\"System prompt not found in the PromptLayer response.\")\n",
    "\n",
    "    return system_prompt, user_prompt\n",
    "\n",
    "def generate_text(system_prompt, user_prompt, model, config):\n",
    "  \n",
    "    url = f\"https://generativelanguage.googleapis.com/v1beta/models/{model}:generateContent\"\n",
    "    headers = {\n",
    "      \"x-goog-api-key\": GEMINI_API_KEY,\n",
    "      \"Content-Type\": \"application/json\"\n",
    "    }\n",
    "    payload = {\n",
    "        \"system_instruction\": {\n",
    "            \"parts\": [{\"text\": system_prompt}]\n",
    "        },\n",
    "        \"contents\": [{\n",
    "            \"role\": \"user\",\n",
    "            \"parts\": [{\"text\": user_prompt}]\n",
    "        }]\n",
    "    }\n",
    "    payload.update(config)\n",
    "\n",
    "    try:\n",
    "        response = requests.post(url, headers = headers, json = payload)\n",
    "        response.raise_for_status()  \n",
    "\n",
    "        data = response.json()\n",
    "        if 'candidates' in data and data['candidates']:\n",
    "            content_parts = data['candidates'][0].get('content', {}).get('parts', [])\n",
    "            if content_parts:\n",
    "                return content_parts[0].get('text', \"Error: Could not extract text from response.\")\n",
    "        return \"Error: No content generated or response format is unexpected.\"\n",
    "    except requests.exceptions.RequestException as e:\n",
    "        return f\"Error making API request: {e}\"\n",
    "    except Exception as e:\n",
    "        return f\"An unexpected error occurred: {e}\\nResponse Body: {response.text}\"\n",
    "\n",
    "def check_article_title(article):\n",
    "\n",
    "    titles = article.split(\"\\n\")\n",
    "    titles = [t.strip() for t in titles]\n",
    "\n",
    "    for t in titles:\n",
    "        if t.startswith(\"# \"):\n",
    "            title = t.lstrip(\"#\").strip()\n",
    "            return title\n",
    "    return titles[0]\n",
    "    \n",
    "def format_yaml(title, parsed_json, today_string, author):\n",
    "\n",
    "    frontmatter_data = {\n",
    "        'title': title,\n",
    "        'description': parsed_json['description'],\n",
    "        'date': today_string,\n",
    "        'draft': False,\n",
    "        'author': author,\n",
    "        'tags': parsed_json['tags']\n",
    "    }\n",
    "\n",
    "    yaml_string = yaml.dump(frontmatter_data, sort_keys = False, allow_unicode = True, default_flow_style = False)\n",
    "    final_frontmatter_block = f\"---\\n{yaml_string}---\"\n",
    "    return final_frontmatter_block"
   ]
  },
  {
   "cell_type": "code",
   "execution_count": null,
   "id": "47a46d22",
   "metadata": {},
   "outputs": [
    {
     "name": "stdout",
     "output_type": "stream",
     "text": [
      "Generating article... Please wait.\n"
     ]
    }
   ],
   "source": [
    "system_prompt, user_prompt = get_prompt(PROMPT_TEMPLATE_IDENTIFIER)\n",
    "if not user_prompt:\n",
    "    raise ValueError(\"User prompt not found in the PromptLayer response.\")\n",
    "\n",
    "print(\"Generating article... Please wait.\")\n",
    "\n",
    "article_generation_model = \"gemini-2.5-pro\"\n",
    "article_generation_config = {\"generationConfig\": {\n",
    "            \"temperature\": 0.9,\n",
    "            \"maxOutputTokens\": 8192,\n",
    "            \"topK\": 40,\n",
    "            \"topP\": 0.95\n",
    "        }\n",
    "    }\n",
    "\n",
    "try:\n",
    "    article = generate_text(system_prompt, user_prompt, article_generation_model, article_generation_config)\n",
    "except Exception as e:\n",
    "    raise Exception(f\"An error occurred while generating the article: {e}\")"
   ]
  },
  {
   "cell_type": "code",
   "execution_count": 66,
   "id": "26f3bfdb",
   "metadata": {},
   "outputs": [
    {
     "name": "stdout",
     "output_type": "stream",
     "text": [
      "Attempt 1 of 2 to get SEO metadata...\n"
     ]
    }
   ],
   "source": [
    "system_prompt, _ = get_prompt(\"81512\")\n",
    "system_prompt = system_prompt.replace(\"[PASTE THE FULL ARTICLE TEXT HERE]\", article)\n",
    "title = check_article_title(article)\n",
    "today = datetime.now()\n",
    "today_string = today.strftime(\"%Y-%m-%d\")\n",
    "author = \"Gemini\"\n",
    "\n",
    "metadata_model = \"gemini-2.0-flash-lite\"\n",
    "metadata_config = {\"generationConfig\": {\n",
    "            \"temperature\": 0.5,\n",
    "            \"maxOutputTokens\": 1024,\n",
    "            \"response_mime_type\": \"application/json\"\n",
    "        }\n",
    "    }\n",
    "\n",
    "max_retries = 2\n",
    "parsed_json = None\n",
    "for attempt in range(max_retries):\n",
    "    try:\n",
    "        print(f\"Attempt {attempt + 1} of {max_retries} to get SEO metadata...\")\n",
    "        raw_response_text = generate_text(system_prompt, \"\", metadata_model, metadata_config)\n",
    "        parsed_json = json.loads(raw_response_text)\n",
    "    except json.JSONDecodeError as e:\n",
    "        print(f\"Warning: Failed to decode JSON: {e}\")\n",
    "    except Exception as e:\n",
    "        print(f\"Warning: An error occurred while generating the description and tags: {e}\")\n",
    "    else:\n",
    "        break\n",
    "\n",
    "if \"description\" not in parsed_json and \"tags\" not in parsed_json:\n",
    "    raise RuntimeError(f\"Failed to get a valid JSON response after {max_retries} attempts.\")\n",
    "\n",
    "yaml_formatter = format_yaml(title, parsed_json, today_string, author)\n",
    "final_output = f\"{yaml_formatter}\\n\\n{article}\""
   ]
  },
  {
   "cell_type": "code",
   "execution_count": 75,
   "id": "b14d77dc",
   "metadata": {},
   "outputs": [
    {
     "name": "stdout",
     "output_type": "stream",
     "text": [
      "Article has been saved to 1755120699.md\n"
     ]
    }
   ],
   "source": [
    "today_ts = int(today.timestamp())  # use timestamp as a unique identifier\n",
    "filename = f\"{today_ts}.md\"\n",
    "output_dir = \"output\"\n",
    "os.makedirs(output_dir, exist_ok = True)\n",
    "file_path = os.path.join(output_dir, filename)\n",
    "\n",
    "with open(file_path, \"w\", encoding = \"utf-8\") as f:\n",
    "    f.write(final_output)\n",
    "print(f\"Article has been saved to {filename}\")"
   ]
  },
  {
   "cell_type": "markdown",
   "id": "800ee0c6",
   "metadata": {},
   "source": [
    "# Upload to Hugo Repo"
   ]
  },
  {
   "cell_type": "code",
   "execution_count": null,
   "id": "f821df36",
   "metadata": {},
   "outputs": [],
   "source": [
    "def run_command(command, working_dir):\n",
    "\n",
    "    result = subprocess.run(command, cwd = working_dir, capture_output = True, text = True, check = True)\n",
    "\n",
    "    return result\n",
    "\n",
    "def publish_article_to_hugo_repo(final_md_content, file_slug, hugo_repo_url, clone_path):\n",
    "\n",
    "    try:\n",
    "        filename = f\"{file_slug}.md\"\n",
    "        destination_path = os.path.join(clone_path, \"content\", \"posts\", filename)\n",
    "\n",
    "        with open(destination_path, \"w\", encoding = \"utf-8\") as f:\n",
    "            f.write(final_md_content)\n",
    "\n",
    "        run_command([\"git\", \"add\", \".\"], working_dir = clone_path)\n",
    "        commit_message = f\"add new article {file_slug}\"\n",
    "        run_command([\"git\", \"commit\", \"-m\", commit_message], working_dir = clone_path)\n",
    "        run_command([\"git\", \"push\"], working_dir = clone_path)\n",
    "    except (subprocess.CalledProcessError, FileNotFoundError) as e:\n",
    "        print(f\"\\nERROR: An error occurred during the publishing process.\")\n",
    "        print(e)\n",
    "    except Exception as e:\n",
    "        print(f\"\\nAn unexpected error occurred: {e}\")\n",
    "\n",
    "def notebook_to_py():\n",
    "    subprocess.run([\"bash\", \"notebook_to_py.sh\"], check = True)"
   ]
  },
  {
   "cell_type": "code",
   "execution_count": null,
   "id": "e7d48b64",
   "metadata": {},
   "outputs": [
    {
     "name": "stderr",
     "output_type": "stream",
     "text": [
      "[NbConvertApp] Converting notebook main.ipynb to script\n",
      "[NbConvertApp] Writing 8789 bytes to main.py\n"
     ]
    }
   ],
   "source": [
    "file_slug = title.lower().replace(' ', '-')\n",
    "\n",
    "try:\n",
    "    publish_article_to_hugo_repo(article, file_slug, HUGO_REPO_URL, CLONE_PATH)\n",
    "except Exception as e:\n",
    "    raise Exception(f\"Pipeline failed: {e}\")\n",
    "\n",
    "notebook_to_py()"
   ]
  },
  {
   "cell_type": "code",
   "execution_count": null,
   "id": "303f3b13",
   "metadata": {},
   "outputs": [],
   "source": []
  }
 ],
 "metadata": {
  "kernelspec": {
   "display_name": "base",
   "language": "python",
   "name": "python3"
  },
  "language_info": {
   "codemirror_mode": {
    "name": "ipython",
    "version": 3
   },
   "file_extension": ".py",
   "mimetype": "text/x-python",
   "name": "python",
   "nbconvert_exporter": "python",
   "pygments_lexer": "ipython3",
   "version": "3.9.12"
  }
 },
 "nbformat": 4,
 "nbformat_minor": 5
}
