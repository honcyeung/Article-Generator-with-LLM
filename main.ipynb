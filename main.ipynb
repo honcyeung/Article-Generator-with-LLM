{
 "cells": [
  {
   "cell_type": "code",
   "execution_count": 1,
   "id": "a3388474",
   "metadata": {},
   "outputs": [],
   "source": [
    "import requests\n",
    "import os\n",
    "from dotenv import load_dotenv\n",
    "from datetime import datetime\n",
    "import json\n",
    "import yaml\n",
    "import shutil\n",
    "import subprocess"
   ]
  },
  {
   "cell_type": "code",
   "execution_count": 9,
   "id": "ab1dd26c",
   "metadata": {},
   "outputs": [],
   "source": [
    "load_dotenv()\n",
    "\n",
    "try:\n",
    "    PROMPTLAYER_API_KEY = os.environ[\"PROMPTLAYER_API_KEY\"]\n",
    "    GEMINI_API_KEY = os.environ[\"GEMINI_API_KEY\"]\n",
    "    HUGO_REPO_URL = os.environ[\"HUGO_REPO_URL\"]\n",
    "    CLONE_PATH = os.environ[\"CLONE_PATH\"]\n",
    "except KeyError as e:\n",
    "    raise KeyError(f\"Environment variable {e} is not set. Please set it before running the script.\")"
   ]
  },
  {
   "cell_type": "markdown",
   "id": "d50b9517",
   "metadata": {},
   "source": [
    "# Generate articles and SEO metadata"
   ]
  },
  {
   "cell_type": "code",
   "execution_count": 3,
   "id": "e5121958",
   "metadata": {},
   "outputs": [],
   "source": [
    "def get_prompt(prompt_template_identifier):\n",
    "  \n",
    "    url = f\"https://api.promptlayer.com/prompt-templates/{prompt_template_identifier}\"\n",
    "    headers = {\n",
    "        \"X-API-KEY\": PROMPTLAYER_API_KEY,\n",
    "        \"Content-Type\": \"application/json\"\n",
    "    }\n",
    "\n",
    "    response = requests.post(url, headers = headers)\n",
    "    response.raise_for_status()\n",
    "    data = response.json()\n",
    "\n",
    "    messages = data.get(\"prompt_template\", {}).get(\"messages\", {})\n",
    "    user_prompt = \"\"\n",
    "    system_prompt = \"\"\n",
    "    for m in messages:\n",
    "        if m.get(\"role\", {}) == \"system\":\n",
    "            system_prompt = m.get(\"content\", [])[0].get(\"text\", \"\")\n",
    "        if m.get(\"role\", {}) == \"user\":\n",
    "            user_prompt = m.get(\"content\", [])[0].get(\"text\", \"\")\n",
    "\n",
    "    if not system_prompt :\n",
    "            raise ValueError(\"System prompt not found in the PromptLayer response.\")\n",
    "\n",
    "    return system_prompt, user_prompt\n",
    "\n",
    "def generate_text(system_prompt, user_prompt, model, config):\n",
    "  \n",
    "    url = f\"https://generativelanguage.googleapis.com/v1beta/models/{model}:generateContent\"\n",
    "    headers = {\n",
    "      \"x-goog-api-key\": GEMINI_API_KEY,\n",
    "      \"Content-Type\": \"application/json\"\n",
    "    }\n",
    "    payload = {\n",
    "        \"system_instruction\": {\n",
    "            \"parts\": [{\"text\": system_prompt}]\n",
    "        },\n",
    "        \"contents\": [{\n",
    "            \"role\": \"user\",\n",
    "            \"parts\": [{\"text\": user_prompt}]\n",
    "        }]\n",
    "    }\n",
    "    payload.update(config)\n",
    "\n",
    "    try:\n",
    "        response = requests.post(url, headers = headers, json = payload)\n",
    "        response.raise_for_status()  \n",
    "\n",
    "        data = response.json()\n",
    "        if 'candidates' in data and data['candidates']:\n",
    "            content_parts = data['candidates'][0].get('content', {}).get('parts', [])\n",
    "            if content_parts:\n",
    "                return content_parts[0].get('text', \"Error: Could not extract text from response.\")\n",
    "        return \"Error: No content generated or response format is unexpected.\"\n",
    "    except requests.exceptions.RequestException as e:\n",
    "        return f\"Error making API request: {e}\"\n",
    "    except Exception as e:\n",
    "        return f\"An unexpected error occurred: {e}\\nResponse Body: {response.text}\"\n",
    "\n",
    "def check_article_title(article):\n",
    "\n",
    "    titles = article.split(\"\\n\")\n",
    "    titles = [t.strip() for t in titles]\n",
    "\n",
    "    for t in titles:\n",
    "        if t.startswith(\"# \"):\n",
    "            title = t.lstrip(\"#\").strip()\n",
    "            return title\n",
    "    return titles[0]\n",
    "    \n",
    "def format_yaml(title, parsed_json, today_string, author):\n",
    "\n",
    "    frontmatter_data = {\n",
    "        'title': title,\n",
    "        'description': parsed_json['description'],\n",
    "        'date': today_string,\n",
    "        'draft': False,\n",
    "        'author': author,\n",
    "        'tags': parsed_json['tags']\n",
    "    }\n",
    "\n",
    "    yaml_string = yaml.dump(frontmatter_data, sort_keys = False, allow_unicode = True, default_flow_style = False)\n",
    "    final_frontmatter_block = f\"---\\n{yaml_string}---\"\n",
    "    return final_frontmatter_block\n"
   ]
  },
  {
   "cell_type": "code",
   "execution_count": 63,
   "id": "47a46d22",
   "metadata": {},
   "outputs": [
    {
     "name": "stdout",
     "output_type": "stream",
     "text": [
      "Generating article... Please wait.\n"
     ]
    }
   ],
   "source": [
    "system_prompt, user_prompt = get_prompt(\"80912\")\n",
    "if not user_prompt:\n",
    "    raise ValueError(\"User prompt not found in the PromptLayer response.\")\n",
    "\n",
    "print(\"Generating article... Please wait.\")\n",
    "\n",
    "article_generation_model = \"gemini-2.5-pro\"\n",
    "article_generation_config = {\"generationConfig\": {\n",
    "            \"temperature\": 0.9,\n",
    "            \"maxOutputTokens\": 8192,\n",
    "            \"topK\": 40,\n",
    "            \"topP\": 0.95\n",
    "        }\n",
    "    }\n",
    "\n",
    "try:\n",
    "    article = generate_text(system_prompt, user_prompt, article_generation_model, article_generation_config)\n",
    "except Exception as e:\n",
    "    raise Exception(f\"An error occurred while generating the article: {e}\")"
   ]
  },
  {
   "cell_type": "code",
   "execution_count": 66,
   "id": "26f3bfdb",
   "metadata": {},
   "outputs": [
    {
     "name": "stdout",
     "output_type": "stream",
     "text": [
      "Attempt 1 of 2 to get SEO metadata...\n"
     ]
    }
   ],
   "source": [
    "system_prompt, _ = get_prompt(\"81512\")\n",
    "system_prompt = system_prompt.replace(\"[PASTE THE FULL ARTICLE TEXT HERE]\", article)\n",
    "title = check_article_title(article)\n",
    "today = datetime.now()\n",
    "today_string = today.strftime(\"%Y-%m-%d\")\n",
    "author = \"Gemini\"\n",
    "\n",
    "metadata_model = \"gemini-2.0-flash-lite\"\n",
    "metadata_config = {\"generationConfig\": {\n",
    "            \"temperature\": 0.5,\n",
    "            \"maxOutputTokens\": 1024,\n",
    "            \"response_mime_type\": \"application/json\"\n",
    "        }\n",
    "    }\n",
    "\n",
    "max_retries = 2\n",
    "parsed_json = None\n",
    "for attempt in range(max_retries):\n",
    "    try:\n",
    "        print(f\"Attempt {attempt + 1} of {max_retries} to get SEO metadata...\")\n",
    "        raw_response_text = generate_text(system_prompt, \"\", metadata_model, metadata_config)\n",
    "        parsed_json = json.loads(raw_response_text)\n",
    "    except json.JSONDecodeError as e:\n",
    "        print(f\"Warning: Failed to decode JSON: {e}\")\n",
    "    except Exception as e:\n",
    "        print(f\"Warning: An error occurred while generating the description and tags: {e}\")\n",
    "    else:\n",
    "        break\n",
    "\n",
    "if \"description\" not in parsed_json and \"tags\" not in parsed_json:\n",
    "    raise RuntimeError(f\"Failed to get a valid JSON response after {max_retries} attempts.\")\n",
    "\n",
    "yaml_formatter = format_yaml(title, parsed_json, today_string, author)\n",
    "final_output = f\"{yaml_formatter}\\n\\n{article}\""
   ]
  },
  {
   "cell_type": "code",
   "execution_count": 75,
   "id": "b14d77dc",
   "metadata": {},
   "outputs": [
    {
     "name": "stdout",
     "output_type": "stream",
     "text": [
      "Article has been saved to 1755120699.md\n"
     ]
    }
   ],
   "source": [
    "today_ts = int(today.timestamp())  # use timestamp as a unique identifier\n",
    "filename = f\"{today_ts}.md\"\n",
    "output_dir = \"output\"\n",
    "os.makedirs(output_dir, exist_ok = True)\n",
    "file_path = os.path.join(output_dir, filename)\n",
    "\n",
    "with open(file_path, \"w\", encoding = \"utf-8\") as f:\n",
    "    f.write(final_output)\n",
    "print(f\"Article has been saved to {filename}\")"
   ]
  },
  {
   "cell_type": "markdown",
   "id": "800ee0c6",
   "metadata": {},
   "source": [
    "# Upload to Hugo Repo"
   ]
  },
  {
   "cell_type": "code",
   "execution_count": 4,
   "id": "f821df36",
   "metadata": {},
   "outputs": [],
   "source": [
    "def run_command(command, working_dir):\n",
    "\n",
    "    result = subprocess.run(command, cwd = working_dir, capture_output = True, text = True, check = True)\n",
    "\n",
    "    return result\n",
    "\n",
    "def publish_article_to_hugo_repo(final_md_content, file_slug, hugo_repo_url, clone_path):\n",
    "\n",
    "    try:\n",
    "        if os.path.exists(clone_path):\n",
    "            run_command([\"git\", \"pull\"], working_dir = clone_path)\n",
    "        else:\n",
    "            run_command([\"git\", \"clone\", hugo_repo_url, clone_path], working_dir = \".\")\n",
    "\n",
    "        filename = f\"{file_slug}.md\"\n",
    "        destination_path = os.path.join(clone_path, \"content\", \"posts\", filename)\n",
    "\n",
    "        with open(destination_path, \"w\", encoding = \"utf-8\") as f:\n",
    "            f.write(final_md_content)\n",
    "\n",
    "        run_command([\"git\", \"add\", \".\"], working_dir = clone_path)\n",
    "        commit_message = f\"add new article {file_slug}\"\n",
    "        run_command([\"git\", \"commit\", \"-m\", commit_message], working_dir = clone_path)\n",
    "        run_command([\"git\", \"push\"], working_dir = clone_path)\n",
    "    except (subprocess.CalledProcessError, FileNotFoundError) as e:\n",
    "        print(f\"\\nERROR: An error occurred during the publishing process.\")\n",
    "        print(e)\n",
    "    except Exception as e:\n",
    "        print(f\"\\nAn unexpected error occurred: {e}\")\n",
    "\n",
    "def notebook_to_py():\n",
    "    subprocess.run([\"bash\", \"notebook_to_py.sh\"], check = True)"
   ]
  },
  {
   "cell_type": "code",
   "execution_count": 11,
   "id": "e7d48b64",
   "metadata": {},
   "outputs": [
    {
     "name": "stdout",
     "output_type": "stream",
     "text": [
      "\n",
      "ERROR: An error occurred during the publishing process.\n",
      "Command '['git', 'pull']' returned non-zero exit status 128.\n"
     ]
    },
    {
     "name": "stderr",
     "output_type": "stream",
     "text": [
      "[NbConvertApp] Converting notebook main.ipynb to script\n",
      "[NbConvertApp] Writing 8755 bytes to main.py\n"
     ]
    }
   ],
   "source": [
    "title = check_article_title(article)\n",
    "file_slug = title.lower().replace(' ', '-')\n",
    "\n",
    "try:\n",
    "    # publish_article_to_hugo_repo(final_output, file_slug, HUGO_REPO_URL, CLONE_PATH)\n",
    "    publish_article_to_hugo_repo(article, file_slug, HUGO_REPO_URL, CLONE_PATH)\n",
    "except Exception as e:\n",
    "    raise Exception(f\"Pipeline failed: {e}\")\n",
    "\n",
    "notebook_to_py()"
   ]
  },
  {
   "cell_type": "code",
   "execution_count": 12,
   "id": "d41c5adf",
   "metadata": {},
   "outputs": [
    {
     "data": {
      "text/plain": [
       "'/Users/ching/Documents/code'"
      ]
     },
     "execution_count": 12,
     "metadata": {},
     "output_type": "execute_result"
    }
   ],
   "source": [
    "CLONE_PATH"
   ]
  },
  {
   "cell_type": "markdown",
   "id": "cf8658b7",
   "metadata": {},
   "source": [
    "# generate image based on the heading\n",
    "code and prompt to be written later"
   ]
  },
  {
   "cell_type": "code",
   "execution_count": null,
   "id": "1548db12",
   "metadata": {},
   "outputs": [],
   "source": [
    "# To run this code you need to install the following dependencies:\n",
    "# pip install google-genai\n",
    "\n",
    "from google import genai\n",
    "import os\n",
    "\n",
    "def generate():\n",
    "    client = genai.Client(api_key=os.environ.get(\"GEMINI_API_KEY\"))\n",
    "\n",
    "    result = client.models.generate_images(\n",
    "        model=\"models/imagen-4.0-generate-preview-06-06\",\n",
    "        prompt=\"\"\"INSERT_INPUT_HERE\"\"\",\n",
    "        config=dict(\n",
    "            number_of_images=1,\n",
    "            output_mime_type=\"image/jpeg\",\n",
    "            person_generation=\"ALLOW_ADULT\",\n",
    "            aspect_ratio=\"1:1\",\n",
    "        ),\n",
    "    )\n",
    "\n",
    "    if not result.generated_images:\n",
    "        print(\"No images generated.\")\n",
    "        return\n",
    "\n",
    "    if len(result.generated_images) != 1:\n",
    "        print(\"Number of images generated does not match the requested number.\")\n",
    "\n",
    "    for n, generated_image in enumerate(result.generated_images):\n",
    "        generated_image.image.save(f\"generated_image_{n}.jpg\")\n",
    "\n",
    "\n",
    "if __name__ == \"__main__\":\n",
    "    generate()\n"
   ]
  },
  {
   "cell_type": "markdown",
   "id": "b8aad27d",
   "metadata": {},
   "source": [
    "# tweak prompt to share knowledge, not just tips"
   ]
  },
  {
   "cell_type": "markdown",
   "id": "be75fe72",
   "metadata": {},
   "source": [
    "# develop later\n",
    "\n",
    "logging: message to save warnings and erros"
   ]
  },
  {
   "cell_type": "markdown",
   "id": "60f54bef",
   "metadata": {},
   "source": [
    "# Testing"
   ]
  },
  {
   "cell_type": "code",
   "execution_count": 6,
   "id": "93cebd1f",
   "metadata": {},
   "outputs": [
    {
     "name": "stdout",
     "output_type": "stream",
     "text": [
      "---\n",
      "title: 'Forget What You Know: The Surprising Secret to How We Learn Faster'\n",
      "description: Discover the surprising secret to how to learn faster! This article explores\n",
      "  the power of strategic forgetting and how it can revolutionize your learning process.\n",
      "date: '2025-08-13'\n",
      "draft: false\n",
      "author: Gemini\n",
      "tags:\n",
      "- Learning Techniques\n",
      "- Strategic Forgetting\n",
      "- Brain Plasticity\n",
      "- Memory\n",
      "- Unlearning\n",
      "---\n",
      "\n",
      "# Forget What You Know: The Surprising Secret to How We Learn Faster\n",
      "\n",
      "We live in a world obsessed with accumulation. We collect skills, facts, and data, stuffing our minds like overpacked suitcases, hoping more information will make us smarter. But what if the secret to accelerated learning isn’t about adding more, but taking away? What if the key to unlocking your brain’s true potential lies in the forgotten art of… forgetting?\n",
      "\n",
      "## Your Brain Isn't a Hard Drive—It's a Garden\n",
      "\n",
      "For decades, we’ve used the wrong metaphor for our minds. We imagine the brain is a computer, a biological hard drive where every byte of information is stored neatly in a folder. This leads to a frustrating conclusion: if you can't learn something new, it's because your drive is full or you’re just \"bad\" at saving the files. This is fundamentally wrong.\n",
      "\n",
      "Your brain isn't a library for dusty facts; it's a dynamic, living workshop for building new ideas. A better analogy is a garden. New knowledge, like a delicate seedling, needs space, sunlight, and healthy soil to grow. But what happens if the garden is already overrun with weeds—outdated beliefs, inefficient habits, and tangled, weak connections? The new seedling stands no chance.\n",
      "\n",
      "This is where **strategic forgetting** comes in. Neuroscientists know that **brain plasticity**, our brain’s ability to rewire itself, is a two-way street. Just as we can form new neural pathways, we can also prune old ones. Forgetting isn’t a sign of failure; *it’s the brain’s essential maintenance process.* To truly understand **how to learn faster**, we must first become expert gardeners of our minds, skillfully pulling the weeds to make room for what matters.\n",
      "\n",
      "### The Hidden Power of Pruning Your Mind\n",
      "\n",
      "Think about the last time you tried to learn a new skill. Maybe it was a new language, a musical instrument, or a piece of software at work. The struggle often isn’t grasping the new information, but fighting against the muscle memory of the old.\n",
      "\n",
      "*   **Unlearning a Bad Habit:** A golfer who wants to fix their swing doesn’t just learn a new motion. They must actively *unlearn* the old, ingrained one. Every time they swing the old way, they reinforce a \"weed\" in their garden. The new, correct swing can only take root once the old one is pruned away.\n",
      "*   **Overcoming the Expert's Curse:** Sometimes, knowing too much can be a trap. Experts can become so rigid in their thinking that they fail to see simpler, more innovative solutions. They are trapped by a garden of well-established \"oak trees,\" leaving no room for new saplings. Unlearning allows them to approach a problem with a beginner's mind, which is often where breakthroughs happen.\n",
      "\n",
      "Forgetting clears the path. It’s the mental decluttering that creates the space for profound, rapid learning.\n",
      "\n",
      "## The Art of Strategic Forgetting: 3 Practical Techniques\n",
      "\n",
      "Okay, so \"forgetting on purpose\" sounds great, but how do you actually do it? You can’t just press a delete key on a memory. **Strategic forgetting** is less about erasing information and more about weakening the connections to it, allowing it to fade into the background.\n",
      "\n",
      "Here are three **effective learning techniques** designed to help you prune your mental garden:\n",
      "\n",
      "### 1. Step into the 'Mental Sandbox'\n",
      "\n",
      "Old habits and ideas are sticky because we’ve practiced them into automaticity. To unlearn them, you need a safe space to be clumsy again. The \"Mental Sandbox\" is a low-stakes environment where you can play with new methods without the pressure of performance.\n",
      "\n",
      "*   **How it works:** If you’re trying to unlearn an inefficient workflow, dedicate 15 minutes a day to trying a new one *with no expectation of success*. The goal isn't to be productive; it's to build new neural pathways. By removing the pressure to be perfect, you give your brain permission to let go of its old, comfortable patterns. *Play is the brain's favorite way to learn.*\n",
      "\n",
      "### 2. Teach It to a Child (or a Rubber Duck)\n",
      "\n",
      "One of the fastest ways to expose your own outdated assumptions is to try and explain a concept in the simplest terms possible. When you’re forced to distill a topic to its absolute core, you naturally shed the jargon, the complex-but-unnecessary steps, and the rigid thinking you've built up around it.\n",
      "\n",
      "*   **How it works:** Grab a notebook, a willing friend, or even an inanimate object (the \"rubber duck method\" is famous among programmers). Explain the concept you're trying to re-learn from scratch. You’ll immediately notice where your explanation gets tangled. Those are the weeds—the parts you've memorized but don't truly understand. This process forces you to untangle them.\n",
      "\n",
      "### 3. Embrace 'Productive Struggle'\n",
      "\n",
      "Unlearning feels uncomfortable. Your brain will fight to use its old, energy-efficient pathways. This mental friction, this \"productive struggle,\" is not a sign that you're failing. It’s the feeling of your brain actively rewiring itself.\n",
      "\n",
      "*   **How it works:** When you feel the pull to do something the old way, pause. Acknowledge the feeling. Then, deliberately choose the new way, even if it’s slower and feels awkward. Each time you do this, you weaken the old connection and strengthen the new one. *The moment of struggle is the moment of growth.* Don't run from it; lean into it.\n",
      "\n",
      "## Now, Rebuild: How to Plant Knowledge That Lasts\n",
      "\n",
      "Once you’ve cleared some space in your garden, you can plant new knowledge with intention. This is where traditional learning advice becomes supercharged. Having pruned the weeds, these methods work exponentially better.\n",
      "\n",
      "*   **Active Recall:** Don’t just re-read your notes. Close the book and actively try to recall the information. This forces your brain to build strong, new pathways from scratch, rather than just recognizing a familiar-looking weed.\n",
      "*   **Spaced Repetition:** Now that you've planted a new seed, you need to water it consistently. Reviewing new information at increasing intervals (e.g., after one day, then three days, then a week) is the most effective way to signal to your brain, \"This is important. Keep this connection strong.\"\n",
      "*   **Interleaving:** Don't practice one skill in a single, monotonous block. Mix it up. If you're learning to code, alternate between different types of problems. If you're learning a language, mix vocabulary, grammar, and speaking practice. This builds more flexible, resilient knowledge that isn't dependent on a single context.\n",
      "\n",
      "Learning isn't about collecting information; it's about forging connections. And the strongest connections are built on clear ground.\n",
      "\n",
      "## Conclusion: Your Brain's Superpower Isn't Remembering—It's Rebuilding\n",
      "\n",
      "We’ve been sold a myth. The path to **how to learn faster** is not paved with more data, more books, and more frantic cramming. It begins with the quiet, deliberate act of letting go. By embracing **strategic forgetting**, you are not losing knowledge; you are making room for wisdom.\n",
      "\n",
      "Your brain’s greatest talent isn’t its capacity to store information, but its incredible ability to adapt, prune, and rebuild itself continuously. Treat it like the garden it is. Tend to it, pull the weeds of old habits and outdated ideas, and give new knowledge the space it needs to flourish.\n",
      "\n",
      "The fastest way to learn something new is to be willing to unlearn something old.\n"
     ]
    }
   ],
   "source": [
    "output_dir = \"output\"\n",
    "file_path = os.path.join(output_dir, \"1755120699.md\")\n",
    "\n",
    "with open(file_path, \"r\", encoding = \"utf-8\") as r:\n",
    "    article = r.read()\n",
    "\n",
    "print(article)"
   ]
  },
  {
   "cell_type": "code",
   "execution_count": null,
   "id": "303f3b13",
   "metadata": {},
   "outputs": [],
   "source": []
  }
 ],
 "metadata": {
  "kernelspec": {
   "display_name": "base",
   "language": "python",
   "name": "python3"
  },
  "language_info": {
   "codemirror_mode": {
    "name": "ipython",
    "version": 3
   },
   "file_extension": ".py",
   "mimetype": "text/x-python",
   "name": "python",
   "nbconvert_exporter": "python",
   "pygments_lexer": "ipython3",
   "version": "3.9.12"
  }
 },
 "nbformat": 4,
 "nbformat_minor": 5
}
